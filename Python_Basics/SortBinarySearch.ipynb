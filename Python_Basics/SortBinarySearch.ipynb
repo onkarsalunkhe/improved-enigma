def binary_search(arr, n, a,mid):
    temp=n
    mid = int(n/2)
    print('a=',a)
    for i in range(1,20):
        if(a==arr[mid]): return mid+1
        elif(a>arr[mid]): 
            print('temp=' ,temp)
            print('mid=',mid)
            temp=mid
            mid = int(mid + (temp-mid)/2)
            print('temp=' ,temp)
            print('mid=',mid)
            continue
        elif(a<arr[mid]):
            print('tmep=',temp)
            print('mid=',mid)
            temp=mid
            mid = int(mid - mid/2)
            print('tmep=',temp)
            print('mid=',mid)
            continue
    else:
        bull = True
        print(bull)
        print('Not found')
    

arr = [2,5,6,10,20,40,50,60,70,80,90,100,200,300,400,500]
#bull = False
n = len(arr)
print('n= ',n)
a = int(input('Number = '))
out = binary_search(arr,n,a,mid)
if (out != None): print (out , 'nth value is',arr[out-1])
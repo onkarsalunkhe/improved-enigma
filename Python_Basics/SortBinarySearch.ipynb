def binary_search(arr, n, a,mid):
    min = 0 
    max = n-1
    mid = int((min+max)/2)
    print('a=',a)
    for i in range(1,20):
        if(a==arr[mid]): return mid+1
        elif(a>arr[mid]): 
            min = mid +1
            mid = int((min + max)/2)
            continue
        elif(a<arr[mid]):
            max = mid -1
            mid = int((min + max)/2)
            continue
    else:
        bull = True
        print(bull)
        print('Not found')
    
arr = [2,5,6,10,20,40,50,60,70,80,90,100,200,300,400,500]
#bull = False
n = len(arr)
print('n= ',n)
a = int(input('Number = '))
mid = 0
out = binary_search(arr,n,a,mid)
if (out != None): print (out , 'nth value is',arr[out-1])

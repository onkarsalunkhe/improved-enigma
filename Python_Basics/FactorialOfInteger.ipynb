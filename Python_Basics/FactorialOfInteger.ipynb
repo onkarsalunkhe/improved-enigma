#Program to calculate factorial of an integer

def fact(n):
    if(n==0 or n==1): return 1
    return n*fact(n-1)
print(fact(int(input('Number '))))
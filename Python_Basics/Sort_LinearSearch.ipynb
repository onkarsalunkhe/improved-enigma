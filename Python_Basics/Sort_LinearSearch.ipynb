def linear_serach(arr,n,a):
    for i in range(0,n):
        if (a!=arr[i]): 
            continue
        elif (a== arr[i]):
            return i
    else:
        print('Element',a,' is not found in array')

arr= [10, 20, 80, 30, 60, 50, 
                     110, 100, 130, 170]
n = len(arr)
a = int(input('Number to search'))
ans= linear_serach(arr,n,a)

if (ans!=None): 
    print('Element', a,' is present at index', ans)
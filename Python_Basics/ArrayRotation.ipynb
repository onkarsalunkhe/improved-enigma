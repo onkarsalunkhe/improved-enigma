#Program for array rotation

A = [1,2,3,4,5]
n = len(A)
print('A[]= ',A)
print('Length of array=  ',len(A))

def rotation(arr,d,n):
    print('d= ',d)
    for d in range(0,d):
        print('d= ',d)
        temp = A[0]
        for i in range(0,len(A)-1):
            A[i]=A[i+1]
        A[len(A)-1]=temp
    return A

print(rotation(A,2,n))

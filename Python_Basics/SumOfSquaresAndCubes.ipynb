#Program to find sum of squares and cubes of first n natural numbers


def SumOfSquares(n):
    if n==0 or n==1: return 1
    return n*n + SumOfSquares(n-1)
	
def SumOfCubes(n):
    if n==0 or n==1: return 1
    return n*n*n + SumOfCubes(n-1)

print(SumOfSquares(int(input('Number'))))
print(SumOfCubes(n))

'''
n = int(input('Number'))
sumofsquares = n*(n +1)*(2*n +1)/6
print('sumofsquares= ',sumofsquares)
sumofcubes = pow((n*(n+1))/2,2)
print('sumofcubes',sumofcubes)
'''
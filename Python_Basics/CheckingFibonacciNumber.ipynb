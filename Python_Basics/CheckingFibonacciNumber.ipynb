#Program to check whether a given number is Fibonacci number or not

def fibo(n):
    if (n==0): return 0
    elif (n==1):return 1
    else:
        val = fibo (n-1) + fibo (n-2)
        return val
    
num = int(input('Number to check  '))

for i in range(1,num+1):
    if fibo(i)!=num:
        continue
    elif(fibo(i)==num): 
        print(num, 'Number is a Fibonacci Number') 
        break
else: print(num, 'Number is not a Fibonacci Number')

'''
import math

def isPerfectSquare(x):
    s = int(math.sqrt(x))
    return s*s == x

def CheckifFibonacci(n):
    for i in range(1,n):
        if(isPerfectSquare(5*n*n+4 ) or isPerfectSquare(5*n*n-4) ): 
            print(n,'Number is a Fibonacci number')
            break
    else: 
        print(n,'Number is not a Fibonacci number')
        
CheckifFibonacci(int(input('Number  ')))
'''
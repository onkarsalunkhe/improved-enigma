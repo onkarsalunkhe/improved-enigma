#Program for Insertion sort

def inseartion_sort(arr, n):
    for i in range(0,n-1):
        #print('i=',i)
        for j in range(i,-1,-1):
            #print('j=',j)
            if (arr[j]>arr[j+1]):
                temp=arr[j]
                arr[j]= arr[j+1]
                arr[j+1]=temp
                continue
            elif arr[j]<=arr[j+1]:
                break
    return arr

arr = [12, 11, 13, 5, 6,4,100,5,66]
n = len(arr)
print('Input array is', arr)
print('Sorted array is',inseartion_sort(arr,n))
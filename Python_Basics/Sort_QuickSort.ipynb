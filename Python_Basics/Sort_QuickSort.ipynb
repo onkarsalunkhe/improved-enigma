def quick_sort(arr,low,high) :
    #pivote=arr[high - 1]
    for i in range(low,high):
        print('i=',i)
        if(arr[i]<arr[high-1]):
            temp = arr[i]
            arr[i]=arr[i-1]
            arr[i-1]=temp
            continue
        if(arr[i]>arr[high-1]):
            key = i-1
            continue
        if(arr[i]==arr[high-1]):
            print('key=',key)
            temp = arr[key]
            arr[key] = arr[high - 1]
            arr[high - 1]=temp
            print(arr)
            low1 = 0
            high1=key
            low2=key
            high2=n
            arr1=arr[low1:high1]
            arr2=arr[low2:high2]
            arr[low1:high1]= quick_sort(arr1,low1,high1)
            arr[low2:high2]= quick_sort(arr2,low2,high2)
    return arr

arr = [50, 23, 9, 18, 61, 32]
n = len(arr)
low=0
high =n
print(quick_sort(arr,low,high))

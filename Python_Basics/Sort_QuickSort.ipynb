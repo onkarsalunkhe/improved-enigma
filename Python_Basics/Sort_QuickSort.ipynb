def quick_sort(arr,low,high) :
    pivote=arr[high - 1]
    for i in range(low,high):
        print('i=',i)
        if(arr[i]<pivote):
            temp = arr[i]
            arr[i]=arr[i-1]
            arr[i-1]=temp
            continue
        if(arr[i]>pivote):
            key = i-1
            continue
        if(arr[i]==pivote):
            print('key=',key)
            temp = arr[key]
            arr[key] = arr[high - 1]
            arr[high - 1]=temp
    return arr

if(key>1):
    low=0
    high=key
    quick_sort(arr,low,high)
    low = key
    high=n
    quick_sort(arr,low,high)

arr = [50, 23, 9, 18, 61, 32]
n = len(arr)
low=0
high =n
quick_sort(arr,low,high)
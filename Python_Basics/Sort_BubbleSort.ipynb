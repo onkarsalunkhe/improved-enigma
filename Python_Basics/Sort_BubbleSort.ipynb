def bubble_sort(arr,n):
    for j in range(0,n-1):
        for i in range (0,n-1):
            if arr[i]>arr[i+1]:
                arr[i],arr[i+1]=arr[i+1],arr[i]
            else:
                continue
    return arr

arr = [50, 23, 9, 18, 61, 32]
n= len(arr)
print(bubble_sort(arr,n))
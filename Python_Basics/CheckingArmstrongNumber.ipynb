#Code for checking Armstrong Number
num = int(input ('Number'))
unit = int(num) % 10
print('unit=', unit)
temp = int(num)/10
print('temp=',int(temp))
dec = int(temp) % 10
print ('dec=',dec)
temp = int(temp)/10
print('temp=',int(temp))
pow(unit,3) 
pow(dec,3)

check = (pow(unit,3) + pow(dec,3) + pow(int(temp),3))
print ('Check',check)

print ('Num',num)
if check == num:
    print(num,'is an Armstrong Number')
else:
    print(num,'is not an Armstrong Number')
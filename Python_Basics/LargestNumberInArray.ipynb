#Program to find largest number and sum of elements in Array

A = [1,2,3,4,8,5,10,1]
n = len(A)
print('A[]= ',A)
print('Length of array=  ',len(A))

def largest(A,n):
    max = A[0]
    for i in range(1,len(A)):
        if max>=A[i]: continue
        else: max = A[i]
    return max

def _sum(A,n):
    sum = 0
    for i in range(0,len(A)):
        sum = sum + A[i]
    return sum

print('Largest number=  ', largest(A,n))
print('Sum of all elements of an array= ', _sum(A,n))
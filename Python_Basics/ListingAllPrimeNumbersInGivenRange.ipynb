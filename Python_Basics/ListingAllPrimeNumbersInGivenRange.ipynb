start,end = int(input('Start  ')),int(input('End  '))
for num in range(start,end):
    for i in range(2,num-1): 
        if num%i==0: break
    else: print(num,'num is prime')
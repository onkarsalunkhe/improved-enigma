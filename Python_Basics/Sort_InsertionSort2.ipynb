def insertion_sort(arr,n):
    for i in range(0,n):
        min_i = i
        for j in range(i+1,n):
            if arr[min_i]>arr[j]:
                arr[min_i] , arr[j]=arr[j],arr[min_i]
                min_i = j
            print(arr)
            continue
        continue
    return arr

arr = [64,25, 12, 22, 11]
n= len(arr)
print(insertion_sort(arr,n))

# Python program for implementation of Selection 
# Sort 
import sys 


def insertion_sort (arr,n):
    # Traverse through all array elements 
    for i in range(n): 
      
        # Find the minimum element in remaining  
        # unsorted array 
        min_idx = i 
        for j in range(i+1,n): 
            if A[min_idx] > A[j]: 
                min_idx = j 
              
        # Swap the found minimum element with  
        # the first element         
        A[i], A[min_idx] = A[min_idx], A[i]
    return arr

arr = [64, 25, 12, 22, 11]
n = len(arr)
print(insertion_sort(arr,n))